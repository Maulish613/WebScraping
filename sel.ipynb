{
 "cells": [
  {
   "cell_type": "code",
   "execution_count": 7,
   "metadata": {},
   "outputs": [
    {
     "output_type": "stream",
     "name": "stdout",
     "text": "Requirement already satisfied: webdriver-manager in c:\\users\\mauli\\appdata\\local\\programs\\python\\python38-32\\lib\\site-packages (3.1.0)\nRequirement already satisfied: crayons in c:\\users\\mauli\\appdata\\local\\programs\\python\\python38-32\\lib\\site-packages (from webdriver-manager) (0.3.1)\nRequirement already satisfied: requests in c:\\users\\mauli\\appdata\\local\\programs\\python\\python38-32\\lib\\site-packages (from webdriver-manager) (2.23.0)\nRequirement already satisfied: configparser in c:\\users\\mauli\\appdata\\local\\programs\\python\\python38-32\\lib\\site-packages (from webdriver-manager) (5.0.0)\nRequirement already satisfied: colorama in c:\\users\\mauli\\appdata\\roaming\\python\\python38\\site-packages (from crayons->webdriver-manager) (0.4.3)\nRequirement already satisfied: chardet<4,>=3.0.2 in c:\\users\\mauli\\appdata\\local\\programs\\python\\python38-32\\lib\\site-packages (from requests->webdriver-manager) (3.0.4)\nRequirement already satisfied: idna<3,>=2.5 in c:\\users\\mauli\\appdata\\local\\programs\\python\\python38-32\\lib\\site-packages (from requests->webdriver-manager) (2.9)\nRequirement already satisfied: certifi>=2017.4.17 in c:\\users\\mauli\\appdata\\local\\programs\\python\\python38-32\\lib\\site-packages (from requests->webdriver-manager) (2020.4.5.1)\nRequirement already satisfied: urllib3!=1.25.0,!=1.25.1,<1.26,>=1.21.1 in c:\\users\\mauli\\appdata\\local\\programs\\python\\python38-32\\lib\\site-packages (from requests->webdriver-manager) (1.25.9)\nNote: you may need to restart the kernel to use updated packages.\nWARNING: You are using pip version 19.2.3, however version 20.1.1 is available.\nYou should consider upgrading via the 'python -m pip install --upgrade pip' command.\n"
    }
   ],
   "source": [
    "pip install webdriver-manager"
   ]
  },
  {
   "cell_type": "code",
   "execution_count": 26,
   "metadata": {},
   "outputs": [],
   "source": [
    "from selenium import webdriver\n",
    "from webdriver_manager.chrome import ChromeDriverManager\n",
    "\n",
    "#driver = webdriver.Chrome(ChromeDriverManager().install())\n",
    "from webdriver_manager.chrome import ChromeDriverManager \n",
    "from selenium.webdriver.chrome.options import Options  "
   ]
  },
  {
   "cell_type": "code",
   "execution_count": 32,
   "metadata": {},
   "outputs": [],
   "source": [
    "from selenium import webdriver\n",
    "username = input('Enter User Name')\n",
    "password = input('Enter a Password')\n",
    "browser = webdriver.Chrome(r'C:\\Users\\mauli\\Downloads\\chromedriver_win32\\chromedriver.exe')\n",
    "\n",
    "browser.get(\"https://www.linkedin.com/login?fromSignIn=true&trk=guest_homepage-basic_nav-header-signin\")\n",
    "username_box = browser.find_element_by_id('username')\n",
    "username_box.send_keys(username)\n",
    "#browser.type(\"id=username\", username)\n",
    "password_box = browser.find_element_by_id('password')\n",
    "password_box.send_keys(password)\n",
    "#selenium.type(\"id=password\", \"M@ulish13062311\")\n",
    "#selenium.sendKeys(\"id=password\", \"${KEY_ENTER}\")\n",
    "#login_box = browser.find_element_by_type('submit')\n",
    "#login_box.click()\n",
    "\n",
    "login_box = browser.find_element_by_xpath('//*[@id=\"app__container\"]/main/div[2]/form/div[3]/button').click()"
   ]
  },
  {
   "cell_type": "code",
   "execution_count": null,
   "metadata": {},
   "outputs": [],
   "source": []
  }
 ],
 "metadata": {
  "language_info": {
   "codemirror_mode": {
    "name": "ipython",
    "version": 3
   },
   "file_extension": ".py",
   "mimetype": "text/x-python",
   "name": "python",
   "nbconvert_exporter": "python",
   "pygments_lexer": "ipython3",
   "version": "3.8.3-final"
  },
  "orig_nbformat": 2,
  "kernelspec": {
   "name": "python38332bitdaa3ecfa86b44aa3b283c0f6ae404ac0",
   "display_name": "Python 3.8.3 32-bit"
  }
 },
 "nbformat": 4,
 "nbformat_minor": 2
}