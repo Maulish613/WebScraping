{
 "cells": [
  {
   "cell_type": "code",
   "execution_count": 3,
   "metadata": {},
   "outputs": [],
   "source": [
    "from bs4 import BeautifulSoup\n",
    "import requests\n",
    "from csv import writer\n"
   ]
  },
  {
   "cell_type": "code",
   "execution_count": 10,
   "metadata": {
    "tags": [
     "outputPrepend"
    ]
   },
   "outputs": [
    {
     "output_type": "stream",
     "name": "stdout",
     "text": "['124-1 (Warner, 24.1), ', '145-2 (Finch, 28.4), ', '146-3 (Steven Smith, 30.4), ', '165-4 (D Arcy Short, 34.3), ', '224-5 (Mitchell Marsh, 45.3), ', '226-6 (Alex Carey, 45.6), ', '248-7 (Labuschagne, 49.1)']\n"
    }
   ],
   "source": [
    "get_url = requests.get('https://www.cricbuzz.com/live-cricket-scorecard/22585/1st-odi-new-zealand-tour-of-australia-2020')\n",
    "#print(get_url)\n",
    "#print(get_url.content)\n",
    "soup  = BeautifulSoup(get_url.content, 'html.parser')\n",
    "#print(soup.prettify())\n",
    "FOW = []\n",
    "\n",
    "table = soup.findAll('div', id = 'innings_1')\n",
    "#print(table.get_text())\n",
    "#table_content = table.find('div', attrs = {'class' : 'cb-col cb-col-100 cb-ltst-wgt-hdr'})\n",
    "#print(table_content)\n",
    "for i in table:\n",
    "    scores = i.find('div', attrs = {'class':'cb-col cb-col-100 cb-col-rt cb-font-13'})\n",
    "    #print(scores)\n",
    "    #print(scores.get_text)\n",
    "    for j in scores:\n",
    "        k = j.get_text()\n",
    "        FOW.append(k)\n",
    "\n",
    "\n",
    "\n",
    "print(FOW)\n",
    "\n",
    "\n"
   ]
  }
 ],
 "metadata": {
  "language_info": {
   "codemirror_mode": {
    "name": "ipython",
    "version": 3
   },
   "file_extension": ".py",
   "mimetype": "text/x-python",
   "name": "python",
   "nbconvert_exporter": "python",
   "pygments_lexer": "ipython3",
   "version": "3.8.3-final"
  },
  "orig_nbformat": 2,
  "kernelspec": {
   "name": "python38332bitdaa3ecfa86b44aa3b283c0f6ae404ac0",
   "display_name": "Python 3.8.3 32-bit"
  }
 },
 "nbformat": 4,
 "nbformat_minor": 2
}